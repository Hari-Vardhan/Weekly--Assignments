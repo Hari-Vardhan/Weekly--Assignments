{
 "cells": [
  {
   "cell_type": "markdown",
   "id": "d69569c2",
   "metadata": {},
   "source": [
    "data type in list"
   ]
  },
  {
   "cell_type": "markdown",
   "id": "2970fc0b",
   "metadata": {},
   "source": [
    "number : int , float , complex"
   ]
  },
  {
   "cell_type": "markdown",
   "id": "bdb49305",
   "metadata": {},
   "source": [
    "LIST"
   ]
  },
  {
   "cell_type": "markdown",
   "id": "91a74a7c",
   "metadata": {},
   "source": [
    "# difference btw data type"
   ]
  },
  {
   "cell_type": "markdown",
   "id": "5b66856a",
   "metadata": {},
   "source": [
    "thislist=[\"apple\", \"banana\", \"cherry\"]\n",
    "\n",
    "    Lists are used to store multiple items in a single variable.\n",
    "\n",
    "    List items are ordered, changeable, and allow duplicate values.\n",
    "\n",
    "\n",
    "thisset = {\"apple\", \"banana\", \"cherry\"}\n",
    "\n",
    "    Sets are used to store multiple items in a single variable.\n",
    "\n",
    "    A set is a collection which is unordered, unchangeable*, and unindexed.\n",
    "\n",
    "thisdict = {\n",
    "  \"yellow\": \"banana\",\n",
    "  \"red\": \"cherry\",\n",
    "  \"green\": \"apple\"\n",
    "}\n",
    "\n",
    "    Dictionary items are ordered, changeable, and does not allow duplicates.\n",
    "\n",
    "    Dictionary items are presented in key:value pairs, and can be referred to by using the key name.\n",
    "\n",
    "thistuple = (\"apple\", \"banana\", \"cherry\")\n",
    "\n",
    "    Tuples are used to store multiple items in a single variable.\n",
    "\n",
    "    A tuple is a collection which is ordered and unchangeable.\n",
    "\n",
    "\n",
    "\n",
    "\n",
    "\n"
   ]
  },
  {
   "cell_type": "code",
   "execution_count": 52,
   "id": "4145ad6f",
   "metadata": {},
   "outputs": [],
   "source": [
    "#indexing"
   ]
  },
  {
   "cell_type": "code",
   "execution_count": 53,
   "id": "7e11fd9f",
   "metadata": {},
   "outputs": [
    {
     "data": {
      "text/plain": [
       "1"
      ]
     },
     "execution_count": 53,
     "metadata": {},
     "output_type": "execute_result"
    }
   ],
   "source": [
    "l=[1,2,3,4,5]# list of only no\n",
    "l[0]"
   ]
  },
  {
   "cell_type": "code",
   "execution_count": 54,
   "id": "143e4086",
   "metadata": {},
   "outputs": [
    {
     "data": {
      "text/plain": [
       "'b'"
      ]
     },
     "execution_count": 54,
     "metadata": {},
     "output_type": "execute_result"
    }
   ],
   "source": [
    "l=[\"a\",\"b\",\"c\"]#list of char only\n",
    "l[1]"
   ]
  },
  {
   "cell_type": "code",
   "execution_count": 55,
   "id": "57664dfd",
   "metadata": {},
   "outputs": [
    {
     "data": {
      "text/plain": [
       "'gsjs'"
      ]
     },
     "execution_count": 55,
     "metadata": {},
     "output_type": "execute_result"
    }
   ],
   "source": [
    "l=[\"hhsj\",2,\"gsjs\"]#mixed data type in \n",
    "l[2]"
   ]
  },
  {
   "cell_type": "code",
   "execution_count": 56,
   "id": "f70d8d2a",
   "metadata": {},
   "outputs": [
    {
     "data": {
      "text/plain": [
       "['gsjs', 2, 'hhsj']"
      ]
     },
     "execution_count": 56,
     "metadata": {},
     "output_type": "execute_result"
    }
   ],
   "source": [
    "l[::-1]"
   ]
  },
  {
   "cell_type": "code",
   "execution_count": 57,
   "id": "a46de8ef",
   "metadata": {},
   "outputs": [
    {
     "data": {
      "text/plain": [
       "[2]"
      ]
     },
     "execution_count": 57,
     "metadata": {},
     "output_type": "execute_result"
    }
   ],
   "source": [
    "l[1:2]"
   ]
  },
  {
   "cell_type": "code",
   "execution_count": 58,
   "id": "2b5c72a8",
   "metadata": {},
   "outputs": [],
   "source": [
    "#iteratiing list"
   ]
  },
  {
   "cell_type": "code",
   "execution_count": 59,
   "id": "9acea2f1",
   "metadata": {},
   "outputs": [
    {
     "name": "stdout",
     "output_type": "stream",
     "text": [
      "1 2 3 4 5 6 7 8 9 10 "
     ]
    }
   ],
   "source": [
    "l=[1,2,3,4,5,6,7,8,9,10]\n",
    "for i in l:\n",
    "    print(i,end=\" \")"
   ]
  },
  {
   "cell_type": "code",
   "execution_count": 60,
   "id": "0aa638df",
   "metadata": {},
   "outputs": [
    {
     "name": "stdout",
     "output_type": "stream",
     "text": [
      "YES!\n"
     ]
    }
   ],
   "source": [
    "if 3 in l:\n",
    "    print(\"YES!\")\n",
    "    "
   ]
  },
  {
   "cell_type": "code",
   "execution_count": 61,
   "id": "5a5a0756",
   "metadata": {},
   "outputs": [
    {
     "name": "stdout",
     "output_type": "stream",
     "text": [
      "jai mata di!\n"
     ]
    }
   ],
   "source": [
    "if 11 in l:\n",
    "    print(\"YES!\")\n",
    "else:\n",
    "    print(\"jai mata di!\")"
   ]
  },
  {
   "cell_type": "markdown",
   "id": "310766d6",
   "metadata": {},
   "source": [
    "TUPLES"
   ]
  },
  {
   "cell_type": "code",
   "execution_count": 62,
   "id": "75b368d1",
   "metadata": {},
   "outputs": [
    {
     "name": "stdout",
     "output_type": "stream",
     "text": [
      "ang\n"
     ]
    }
   ],
   "source": [
    "thistuple = (\"apple\", \"banana\", [\"cherry\", \"orange\"], \"kiwi\", \"melon\", \"mango\")\n",
    "print(thistuple[2][1][2:5])\n"
   ]
  },
  {
   "cell_type": "code",
   "execution_count": 63,
   "id": "8abd0030",
   "metadata": {},
   "outputs": [
    {
     "name": "stdout",
     "output_type": "stream",
     "text": [
      "('apple', 'kiwi', 'cherry')\n"
     ]
    }
   ],
   "source": [
    "x = (\"apple\", \"banana\", \"cherry\")\n",
    "y = list(x)   # so the data would not get lost\n",
    "y[1] = \"kiwi\"\n",
    "x = tuple(y)\n",
    "\n",
    "print(x)"
   ]
  },
  {
   "cell_type": "code",
   "execution_count": 64,
   "id": "35b7e11d",
   "metadata": {},
   "outputs": [
    {
     "name": "stdout",
     "output_type": "stream",
     "text": [
      "('a', 'b', 'c', 1, 2, 3)\n"
     ]
    }
   ],
   "source": [
    "tuple1 = (\"a\", \"b\" , \"c\")\n",
    "tuple2 = (1, 2, 3)\n",
    "\n",
    "tuple3 = tuple1 + tuple2\n",
    "print(tuple3)"
   ]
  },
  {
   "cell_type": "markdown",
   "id": "2f41c345",
   "metadata": {},
   "source": [
    "SETS"
   ]
  },
  {
   "cell_type": "code",
   "execution_count": 65,
   "id": "b117352f",
   "metadata": {},
   "outputs": [
    {
     "name": "stdout",
     "output_type": "stream",
     "text": [
      "cherry\n",
      "banana\n",
      "apple\n"
     ]
    }
   ],
   "source": [
    "thisset = {\"apple\", \"banana\", \"cherry\"}\n",
    "\n",
    "for x in thisset:\n",
    "  print(x)"
   ]
  },
  {
   "cell_type": "code",
   "execution_count": 66,
   "id": "ef2fade3",
   "metadata": {},
   "outputs": [
    {
     "name": "stdout",
     "output_type": "stream",
     "text": [
      "mango\n"
     ]
    }
   ],
   "source": [
    "print(thistuple[-1])"
   ]
  },
  {
   "cell_type": "code",
   "execution_count": 67,
   "id": "38287252",
   "metadata": {},
   "outputs": [
    {
     "name": "stdout",
     "output_type": "stream",
     "text": [
      "True\n"
     ]
    }
   ],
   "source": [
    "thisset = {\"apple\", \"banana\", \"cherry\"}\n",
    "\n",
    "print(\"banana\" in thisset)\n"
   ]
  },
  {
   "cell_type": "markdown",
   "id": "266b18fb",
   "metadata": {},
   "source": [
    "DICTIONARY"
   ]
  },
  {
   "cell_type": "code",
   "execution_count": 69,
   "id": "3b0cd9e4",
   "metadata": {},
   "outputs": [
    {
     "data": {
      "text/plain": [
       "'cherry'"
      ]
     },
     "execution_count": 69,
     "metadata": {},
     "output_type": "execute_result"
    }
   ],
   "source": [
    "thisdict = {\n",
    "  \"yellow\": \"banana\",\n",
    "  \"red\": \"cherry\",\n",
    "  \"green\": \"apple\"\n",
    "}\n",
    "x = thisdict[\"red\"]\n",
    "x"
   ]
  },
  {
   "cell_type": "code",
   "execution_count": 70,
   "id": "7e9b310f",
   "metadata": {},
   "outputs": [
    {
     "data": {
      "text/plain": [
       "'banana'"
      ]
     },
     "execution_count": 70,
     "metadata": {},
     "output_type": "execute_result"
    }
   ],
   "source": [
    "x = thisdict.get(\"yellow\")\n",
    "x"
   ]
  },
  {
   "cell_type": "code",
   "execution_count": 71,
   "id": "ba0ef399",
   "metadata": {},
   "outputs": [
    {
     "data": {
      "text/plain": [
       "dict_keys(['yellow', 'red', 'green'])"
      ]
     },
     "execution_count": 71,
     "metadata": {},
     "output_type": "execute_result"
    }
   ],
   "source": [
    "x = thisdict.keys()\n",
    "x"
   ]
  },
  {
   "cell_type": "code",
   "execution_count": 72,
   "id": "4a67baa2",
   "metadata": {},
   "outputs": [
    {
     "name": "stdout",
     "output_type": "stream",
     "text": [
      "banana\n",
      "cherry\n",
      "apple\n"
     ]
    }
   ],
   "source": [
    "for x in thisdict.values():\n",
    "  print(x)"
   ]
  },
  {
   "cell_type": "code",
   "execution_count": 73,
   "id": "6733d498",
   "metadata": {},
   "outputs": [
    {
     "name": "stdout",
     "output_type": "stream",
     "text": [
      "yellow\n",
      "red\n",
      "green\n"
     ]
    }
   ],
   "source": [
    "for x in thisdict.keys():\n",
    "  print(x)"
   ]
  },
  {
   "cell_type": "code",
   "execution_count": 74,
   "id": "62c05a31",
   "metadata": {},
   "outputs": [
    {
     "name": "stdout",
     "output_type": "stream",
     "text": [
      "yellow banana\n",
      "red cherry\n",
      "green apple\n"
     ]
    }
   ],
   "source": [
    "for x, y in thisdict.items():\n",
    "  print(x, y)"
   ]
  },
  {
   "cell_type": "code",
   "execution_count": null,
   "id": "5b40216f",
   "metadata": {},
   "outputs": [],
   "source": []
  }
 ],
 "metadata": {
  "kernelspec": {
   "display_name": "Python 3 (ipykernel)",
   "language": "python",
   "name": "python3"
  },
  "language_info": {
   "codemirror_mode": {
    "name": "ipython",
    "version": 3
   },
   "file_extension": ".py",
   "mimetype": "text/x-python",
   "name": "python",
   "nbconvert_exporter": "python",
   "pygments_lexer": "ipython3",
   "version": "3.9.1"
  }
 },
 "nbformat": 4,
 "nbformat_minor": 5
}
